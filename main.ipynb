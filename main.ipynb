{
  "nbformat": 4,
  "nbformat_minor": 0,
  "metadata": {
    "colab": {
      "provenance": []
    },
    "kernelspec": {
      "name": "python3",
      "display_name": "Python 3"
    },
    "language_info": {
      "name": "python"
    }
  },
  "cells": [
    {
      "cell_type": "code",
      "execution_count": 66,
      "metadata": {
        "id": "eHJS6M08beqz"
      },
      "outputs": [],
      "source": [
        "import pandas as pd\n",
        "import numpy as np\n",
        "import time\n",
        "import seaborn as sns\n",
        "from sklearn.model_selection import train_test_split\n",
        "from sklearn.tree import DecisionTreeClassifier\n",
        "from sklearn.ensemble import RandomForestClassifier\n",
        "from sklearn.ensemble import BaggingClassifier\n",
        "from sklearn.linear_model import LogisticRegression\n",
        "from sklearn.neighbors import KNeighborsClassifier\n",
        "from sklearn.svm import SVC\n",
        "from sklearn.tree import DecisionTreeRegressor\n",
        "from sklearn.metrics import classification_report\n",
        "from sklearn.metrics import accuracy_score\n",
        "from sklearn.metrics import plot_confusion_matrix\n",
        "from sklearn.metrics import roc_curve,auc\n",
        "from sklearn.model_selection import cross_val_score\n",
        "from sklearn import tree\n",
        "from sklearn.tree import DecisionTreeClassifier, plot_tree\n",
        "import matplotlib.pyplot as plt\n",
        "%matplotlib inline"
      ]
    },
    {
      "cell_type": "code",
      "source": [
        "# loading the data from csv file to a Pandas DataFrame\n",
        "data = pd.read_csv('/content/Diabetes_Type1.csv')"
      ],
      "metadata": {
        "id": "GUYX7QHXb-3i"
      },
      "execution_count": 67,
      "outputs": []
    },
    {
      "cell_type": "code",
      "source": [
        "# first 5 rows of the dataframe\n",
        "data.head(5)"
      ],
      "metadata": {
        "id": "YvhmtdFNcEmC",
        "colab": {
          "base_uri": "https://localhost:8080/",
          "height": 436
        },
        "outputId": "850e27fc-f69e-45b9-8f48-717d26f27289"
      },
      "execution_count": 68,
      "outputs": [
        {
          "output_type": "execute_result",
          "data": {
            "text/plain": [
              "               Age     Sex Area of Residence       HbA1c  Height  Weight  \\\n",
              "0  greater then 15  Female           Suburban  Over 7.5%    1.50    56.0   \n",
              "1  greater then 15  Female           Suburban  Over 7.5%    1.48    58.0   \n",
              "2     Less then 11  Female              Urban  Over 7.5%    1.20    46.0   \n",
              "3     Less then 15  Female           Suburban  Over 7.5%    1.65    50.0   \n",
              "4     Less then 15  Female           Suburban  Over 7.5%    1.61    59.0   \n",
              "\n",
              "         BMI Duration of disease   Other diease Adequate Nutrition   ...  \\\n",
              "0  24.888889                  4y             no                  No  ...   \n",
              "1  26.479182                  1w           none                  No  ...   \n",
              "2  31.944444                  9d           none                 Yes  ...   \n",
              "3  18.365473                  1w           none                 Yes  ...   \n",
              "4  22.761468                  1m  liver problem                 Yes  ...   \n",
              "\n",
              "  Standardized birth weight Autoantibodies Impaired glucose metabolism   \\\n",
              "0          Middle quartiles            Yes                          Yes   \n",
              "1          Middle quartiles            Yes                           No   \n",
              "2          Middle quartiles            Yes                           No   \n",
              "3          Middle quartiles             No                           No   \n",
              "4          Middle quartiles            Yes                           No   \n",
              "\n",
              "  Insulin taken  How Taken Family History affected in Type 1 Diabetes  \\\n",
              "0           Yes  Injection                                        Yes   \n",
              "1           Yes  Injection                                        Yes   \n",
              "2            No  Injection                                        Yes   \n",
              "3           Yes  Injection                                         No   \n",
              "4            No  Injection                                        Yes   \n",
              "\n",
              "  Family History affected in Type 2 Diabetes Hypoglycemis  \\\n",
              "0                                         No          Yes   \n",
              "1                                        Yes          Yes   \n",
              "2                                         No           No   \n",
              "3                                        Yes           No   \n",
              "4                                        Yes           No   \n",
              "\n",
              "  pancreatic disease affected in child  Affected  \n",
              "0                                   Yes        0  \n",
              "1                                   Yes        1  \n",
              "2                                    No        1  \n",
              "3                                    No        0  \n",
              "4                                    No        1  \n",
              "\n",
              "[5 rows x 22 columns]"
            ],
            "text/html": [
              "\n",
              "  <div id=\"df-b892103d-009b-456d-94ee-1d9f821f0f38\">\n",
              "    <div class=\"colab-df-container\">\n",
              "      <div>\n",
              "<style scoped>\n",
              "    .dataframe tbody tr th:only-of-type {\n",
              "        vertical-align: middle;\n",
              "    }\n",
              "\n",
              "    .dataframe tbody tr th {\n",
              "        vertical-align: top;\n",
              "    }\n",
              "\n",
              "    .dataframe thead th {\n",
              "        text-align: right;\n",
              "    }\n",
              "</style>\n",
              "<table border=\"1\" class=\"dataframe\">\n",
              "  <thead>\n",
              "    <tr style=\"text-align: right;\">\n",
              "      <th></th>\n",
              "      <th>Age</th>\n",
              "      <th>Sex</th>\n",
              "      <th>Area of Residence</th>\n",
              "      <th>HbA1c</th>\n",
              "      <th>Height</th>\n",
              "      <th>Weight</th>\n",
              "      <th>BMI</th>\n",
              "      <th>Duration of disease</th>\n",
              "      <th>Other diease</th>\n",
              "      <th>Adequate Nutrition</th>\n",
              "      <th>...</th>\n",
              "      <th>Standardized birth weight</th>\n",
              "      <th>Autoantibodies</th>\n",
              "      <th>Impaired glucose metabolism</th>\n",
              "      <th>Insulin taken</th>\n",
              "      <th>How Taken</th>\n",
              "      <th>Family History affected in Type 1 Diabetes</th>\n",
              "      <th>Family History affected in Type 2 Diabetes</th>\n",
              "      <th>Hypoglycemis</th>\n",
              "      <th>pancreatic disease affected in child</th>\n",
              "      <th>Affected</th>\n",
              "    </tr>\n",
              "  </thead>\n",
              "  <tbody>\n",
              "    <tr>\n",
              "      <th>0</th>\n",
              "      <td>greater then 15</td>\n",
              "      <td>Female</td>\n",
              "      <td>Suburban</td>\n",
              "      <td>Over 7.5%</td>\n",
              "      <td>1.50</td>\n",
              "      <td>56.0</td>\n",
              "      <td>24.888889</td>\n",
              "      <td>4y</td>\n",
              "      <td>no</td>\n",
              "      <td>No</td>\n",
              "      <td>...</td>\n",
              "      <td>Middle quartiles</td>\n",
              "      <td>Yes</td>\n",
              "      <td>Yes</td>\n",
              "      <td>Yes</td>\n",
              "      <td>Injection</td>\n",
              "      <td>Yes</td>\n",
              "      <td>No</td>\n",
              "      <td>Yes</td>\n",
              "      <td>Yes</td>\n",
              "      <td>0</td>\n",
              "    </tr>\n",
              "    <tr>\n",
              "      <th>1</th>\n",
              "      <td>greater then 15</td>\n",
              "      <td>Female</td>\n",
              "      <td>Suburban</td>\n",
              "      <td>Over 7.5%</td>\n",
              "      <td>1.48</td>\n",
              "      <td>58.0</td>\n",
              "      <td>26.479182</td>\n",
              "      <td>1w</td>\n",
              "      <td>none</td>\n",
              "      <td>No</td>\n",
              "      <td>...</td>\n",
              "      <td>Middle quartiles</td>\n",
              "      <td>Yes</td>\n",
              "      <td>No</td>\n",
              "      <td>Yes</td>\n",
              "      <td>Injection</td>\n",
              "      <td>Yes</td>\n",
              "      <td>Yes</td>\n",
              "      <td>Yes</td>\n",
              "      <td>Yes</td>\n",
              "      <td>1</td>\n",
              "    </tr>\n",
              "    <tr>\n",
              "      <th>2</th>\n",
              "      <td>Less then 11</td>\n",
              "      <td>Female</td>\n",
              "      <td>Urban</td>\n",
              "      <td>Over 7.5%</td>\n",
              "      <td>1.20</td>\n",
              "      <td>46.0</td>\n",
              "      <td>31.944444</td>\n",
              "      <td>9d</td>\n",
              "      <td>none</td>\n",
              "      <td>Yes</td>\n",
              "      <td>...</td>\n",
              "      <td>Middle quartiles</td>\n",
              "      <td>Yes</td>\n",
              "      <td>No</td>\n",
              "      <td>No</td>\n",
              "      <td>Injection</td>\n",
              "      <td>Yes</td>\n",
              "      <td>No</td>\n",
              "      <td>No</td>\n",
              "      <td>No</td>\n",
              "      <td>1</td>\n",
              "    </tr>\n",
              "    <tr>\n",
              "      <th>3</th>\n",
              "      <td>Less then 15</td>\n",
              "      <td>Female</td>\n",
              "      <td>Suburban</td>\n",
              "      <td>Over 7.5%</td>\n",
              "      <td>1.65</td>\n",
              "      <td>50.0</td>\n",
              "      <td>18.365473</td>\n",
              "      <td>1w</td>\n",
              "      <td>none</td>\n",
              "      <td>Yes</td>\n",
              "      <td>...</td>\n",
              "      <td>Middle quartiles</td>\n",
              "      <td>No</td>\n",
              "      <td>No</td>\n",
              "      <td>Yes</td>\n",
              "      <td>Injection</td>\n",
              "      <td>No</td>\n",
              "      <td>Yes</td>\n",
              "      <td>No</td>\n",
              "      <td>No</td>\n",
              "      <td>0</td>\n",
              "    </tr>\n",
              "    <tr>\n",
              "      <th>4</th>\n",
              "      <td>Less then 15</td>\n",
              "      <td>Female</td>\n",
              "      <td>Suburban</td>\n",
              "      <td>Over 7.5%</td>\n",
              "      <td>1.61</td>\n",
              "      <td>59.0</td>\n",
              "      <td>22.761468</td>\n",
              "      <td>1m</td>\n",
              "      <td>liver problem</td>\n",
              "      <td>Yes</td>\n",
              "      <td>...</td>\n",
              "      <td>Middle quartiles</td>\n",
              "      <td>Yes</td>\n",
              "      <td>No</td>\n",
              "      <td>No</td>\n",
              "      <td>Injection</td>\n",
              "      <td>Yes</td>\n",
              "      <td>Yes</td>\n",
              "      <td>No</td>\n",
              "      <td>No</td>\n",
              "      <td>1</td>\n",
              "    </tr>\n",
              "  </tbody>\n",
              "</table>\n",
              "<p>5 rows × 22 columns</p>\n",
              "</div>\n",
              "      <button class=\"colab-df-convert\" onclick=\"convertToInteractive('df-b892103d-009b-456d-94ee-1d9f821f0f38')\"\n",
              "              title=\"Convert this dataframe to an interactive table.\"\n",
              "              style=\"display:none;\">\n",
              "        \n",
              "  <svg xmlns=\"http://www.w3.org/2000/svg\" height=\"24px\"viewBox=\"0 0 24 24\"\n",
              "       width=\"24px\">\n",
              "    <path d=\"M0 0h24v24H0V0z\" fill=\"none\"/>\n",
              "    <path d=\"M18.56 5.44l.94 2.06.94-2.06 2.06-.94-2.06-.94-.94-2.06-.94 2.06-2.06.94zm-11 1L8.5 8.5l.94-2.06 2.06-.94-2.06-.94L8.5 2.5l-.94 2.06-2.06.94zm10 10l.94 2.06.94-2.06 2.06-.94-2.06-.94-.94-2.06-.94 2.06-2.06.94z\"/><path d=\"M17.41 7.96l-1.37-1.37c-.4-.4-.92-.59-1.43-.59-.52 0-1.04.2-1.43.59L10.3 9.45l-7.72 7.72c-.78.78-.78 2.05 0 2.83L4 21.41c.39.39.9.59 1.41.59.51 0 1.02-.2 1.41-.59l7.78-7.78 2.81-2.81c.8-.78.8-2.07 0-2.86zM5.41 20L4 18.59l7.72-7.72 1.47 1.35L5.41 20z\"/>\n",
              "  </svg>\n",
              "      </button>\n",
              "      \n",
              "  <style>\n",
              "    .colab-df-container {\n",
              "      display:flex;\n",
              "      flex-wrap:wrap;\n",
              "      gap: 12px;\n",
              "    }\n",
              "\n",
              "    .colab-df-convert {\n",
              "      background-color: #E8F0FE;\n",
              "      border: none;\n",
              "      border-radius: 50%;\n",
              "      cursor: pointer;\n",
              "      display: none;\n",
              "      fill: #1967D2;\n",
              "      height: 32px;\n",
              "      padding: 0 0 0 0;\n",
              "      width: 32px;\n",
              "    }\n",
              "\n",
              "    .colab-df-convert:hover {\n",
              "      background-color: #E2EBFA;\n",
              "      box-shadow: 0px 1px 2px rgba(60, 64, 67, 0.3), 0px 1px 3px 1px rgba(60, 64, 67, 0.15);\n",
              "      fill: #174EA6;\n",
              "    }\n",
              "\n",
              "    [theme=dark] .colab-df-convert {\n",
              "      background-color: #3B4455;\n",
              "      fill: #D2E3FC;\n",
              "    }\n",
              "\n",
              "    [theme=dark] .colab-df-convert:hover {\n",
              "      background-color: #434B5C;\n",
              "      box-shadow: 0px 1px 3px 1px rgba(0, 0, 0, 0.15);\n",
              "      filter: drop-shadow(0px 1px 2px rgba(0, 0, 0, 0.3));\n",
              "      fill: #FFFFFF;\n",
              "    }\n",
              "  </style>\n",
              "\n",
              "      <script>\n",
              "        const buttonEl =\n",
              "          document.querySelector('#df-b892103d-009b-456d-94ee-1d9f821f0f38 button.colab-df-convert');\n",
              "        buttonEl.style.display =\n",
              "          google.colab.kernel.accessAllowed ? 'block' : 'none';\n",
              "\n",
              "        async function convertToInteractive(key) {\n",
              "          const element = document.querySelector('#df-b892103d-009b-456d-94ee-1d9f821f0f38');\n",
              "          const dataTable =\n",
              "            await google.colab.kernel.invokeFunction('convertToInteractive',\n",
              "                                                     [key], {});\n",
              "          if (!dataTable) return;\n",
              "\n",
              "          const docLinkHtml = 'Like what you see? Visit the ' +\n",
              "            '<a target=\"_blank\" href=https://colab.research.google.com/notebooks/data_table.ipynb>data table notebook</a>'\n",
              "            + ' to learn more about interactive tables.';\n",
              "          element.innerHTML = '';\n",
              "          dataTable['output_type'] = 'display_data';\n",
              "          await google.colab.output.renderOutput(dataTable, element);\n",
              "          const docLink = document.createElement('div');\n",
              "          docLink.innerHTML = docLinkHtml;\n",
              "          element.appendChild(docLink);\n",
              "        }\n",
              "      </script>\n",
              "    </div>\n",
              "  </div>\n",
              "  "
            ]
          },
          "metadata": {},
          "execution_count": 68
        }
      ]
    },
    {
      "cell_type": "code",
      "source": [
        "# number of rows and columns\n",
        "data.shape"
      ],
      "metadata": {
        "colab": {
          "base_uri": "https://localhost:8080/"
        },
        "id": "E0fCWXpVGw24",
        "outputId": "dda3d155-9016-46c5-ca53-d5141d3f9fc1"
      },
      "execution_count": 69,
      "outputs": [
        {
          "output_type": "execute_result",
          "data": {
            "text/plain": [
              "(70015, 22)"
            ]
          },
          "metadata": {},
          "execution_count": 69
        }
      ]
    },
    {
      "cell_type": "code",
      "source": [
        "# checking for missing values\n",
        "data.isnull().sum()"
      ],
      "metadata": {
        "id": "zlek6CR5HEzB"
      },
      "execution_count": null,
      "outputs": []
    },
    {
      "cell_type": "code",
      "source": [
        "# statistical Measures of the dataset\n",
        "data.describe()"
      ],
      "metadata": {
        "colab": {
          "base_uri": "https://localhost:8080/",
          "height": 300
        },
        "id": "sATKl1hiHPn6",
        "outputId": "71bd1627-7358-4df4-b22d-52138085ed41"
      },
      "execution_count": 71,
      "outputs": [
        {
          "output_type": "execute_result",
          "data": {
            "text/plain": [
              "             Height        Weight           BMI      Affected\n",
              "count  70015.000000  70015.000000  70015.000000  70015.000000\n",
              "mean       1.336153     38.007498     20.895587      0.436035\n",
              "std        0.270728     16.340687      6.063949      0.495895\n",
              "min        0.440000      5.000000     10.077936      0.000000\n",
              "25%        1.200000     25.000000     16.928286      0.000000\n",
              "50%        1.370000     38.000000     19.812365      0.000000\n",
              "75%        1.550000     49.000000     23.725286      1.000000\n",
              "max        1.830000     87.000000     61.983471      1.000000"
            ],
            "text/html": [
              "\n",
              "  <div id=\"df-6c75fdee-b111-4848-9b30-da89c2b97cca\">\n",
              "    <div class=\"colab-df-container\">\n",
              "      <div>\n",
              "<style scoped>\n",
              "    .dataframe tbody tr th:only-of-type {\n",
              "        vertical-align: middle;\n",
              "    }\n",
              "\n",
              "    .dataframe tbody tr th {\n",
              "        vertical-align: top;\n",
              "    }\n",
              "\n",
              "    .dataframe thead th {\n",
              "        text-align: right;\n",
              "    }\n",
              "</style>\n",
              "<table border=\"1\" class=\"dataframe\">\n",
              "  <thead>\n",
              "    <tr style=\"text-align: right;\">\n",
              "      <th></th>\n",
              "      <th>Height</th>\n",
              "      <th>Weight</th>\n",
              "      <th>BMI</th>\n",
              "      <th>Affected</th>\n",
              "    </tr>\n",
              "  </thead>\n",
              "  <tbody>\n",
              "    <tr>\n",
              "      <th>count</th>\n",
              "      <td>70015.000000</td>\n",
              "      <td>70015.000000</td>\n",
              "      <td>70015.000000</td>\n",
              "      <td>70015.000000</td>\n",
              "    </tr>\n",
              "    <tr>\n",
              "      <th>mean</th>\n",
              "      <td>1.336153</td>\n",
              "      <td>38.007498</td>\n",
              "      <td>20.895587</td>\n",
              "      <td>0.436035</td>\n",
              "    </tr>\n",
              "    <tr>\n",
              "      <th>std</th>\n",
              "      <td>0.270728</td>\n",
              "      <td>16.340687</td>\n",
              "      <td>6.063949</td>\n",
              "      <td>0.495895</td>\n",
              "    </tr>\n",
              "    <tr>\n",
              "      <th>min</th>\n",
              "      <td>0.440000</td>\n",
              "      <td>5.000000</td>\n",
              "      <td>10.077936</td>\n",
              "      <td>0.000000</td>\n",
              "    </tr>\n",
              "    <tr>\n",
              "      <th>25%</th>\n",
              "      <td>1.200000</td>\n",
              "      <td>25.000000</td>\n",
              "      <td>16.928286</td>\n",
              "      <td>0.000000</td>\n",
              "    </tr>\n",
              "    <tr>\n",
              "      <th>50%</th>\n",
              "      <td>1.370000</td>\n",
              "      <td>38.000000</td>\n",
              "      <td>19.812365</td>\n",
              "      <td>0.000000</td>\n",
              "    </tr>\n",
              "    <tr>\n",
              "      <th>75%</th>\n",
              "      <td>1.550000</td>\n",
              "      <td>49.000000</td>\n",
              "      <td>23.725286</td>\n",
              "      <td>1.000000</td>\n",
              "    </tr>\n",
              "    <tr>\n",
              "      <th>max</th>\n",
              "      <td>1.830000</td>\n",
              "      <td>87.000000</td>\n",
              "      <td>61.983471</td>\n",
              "      <td>1.000000</td>\n",
              "    </tr>\n",
              "  </tbody>\n",
              "</table>\n",
              "</div>\n",
              "      <button class=\"colab-df-convert\" onclick=\"convertToInteractive('df-6c75fdee-b111-4848-9b30-da89c2b97cca')\"\n",
              "              title=\"Convert this dataframe to an interactive table.\"\n",
              "              style=\"display:none;\">\n",
              "        \n",
              "  <svg xmlns=\"http://www.w3.org/2000/svg\" height=\"24px\"viewBox=\"0 0 24 24\"\n",
              "       width=\"24px\">\n",
              "    <path d=\"M0 0h24v24H0V0z\" fill=\"none\"/>\n",
              "    <path d=\"M18.56 5.44l.94 2.06.94-2.06 2.06-.94-2.06-.94-.94-2.06-.94 2.06-2.06.94zm-11 1L8.5 8.5l.94-2.06 2.06-.94-2.06-.94L8.5 2.5l-.94 2.06-2.06.94zm10 10l.94 2.06.94-2.06 2.06-.94-2.06-.94-.94-2.06-.94 2.06-2.06.94z\"/><path d=\"M17.41 7.96l-1.37-1.37c-.4-.4-.92-.59-1.43-.59-.52 0-1.04.2-1.43.59L10.3 9.45l-7.72 7.72c-.78.78-.78 2.05 0 2.83L4 21.41c.39.39.9.59 1.41.59.51 0 1.02-.2 1.41-.59l7.78-7.78 2.81-2.81c.8-.78.8-2.07 0-2.86zM5.41 20L4 18.59l7.72-7.72 1.47 1.35L5.41 20z\"/>\n",
              "  </svg>\n",
              "      </button>\n",
              "      \n",
              "  <style>\n",
              "    .colab-df-container {\n",
              "      display:flex;\n",
              "      flex-wrap:wrap;\n",
              "      gap: 12px;\n",
              "    }\n",
              "\n",
              "    .colab-df-convert {\n",
              "      background-color: #E8F0FE;\n",
              "      border: none;\n",
              "      border-radius: 50%;\n",
              "      cursor: pointer;\n",
              "      display: none;\n",
              "      fill: #1967D2;\n",
              "      height: 32px;\n",
              "      padding: 0 0 0 0;\n",
              "      width: 32px;\n",
              "    }\n",
              "\n",
              "    .colab-df-convert:hover {\n",
              "      background-color: #E2EBFA;\n",
              "      box-shadow: 0px 1px 2px rgba(60, 64, 67, 0.3), 0px 1px 3px 1px rgba(60, 64, 67, 0.15);\n",
              "      fill: #174EA6;\n",
              "    }\n",
              "\n",
              "    [theme=dark] .colab-df-convert {\n",
              "      background-color: #3B4455;\n",
              "      fill: #D2E3FC;\n",
              "    }\n",
              "\n",
              "    [theme=dark] .colab-df-convert:hover {\n",
              "      background-color: #434B5C;\n",
              "      box-shadow: 0px 1px 3px 1px rgba(0, 0, 0, 0.15);\n",
              "      filter: drop-shadow(0px 1px 2px rgba(0, 0, 0, 0.3));\n",
              "      fill: #FFFFFF;\n",
              "    }\n",
              "  </style>\n",
              "\n",
              "      <script>\n",
              "        const buttonEl =\n",
              "          document.querySelector('#df-6c75fdee-b111-4848-9b30-da89c2b97cca button.colab-df-convert');\n",
              "        buttonEl.style.display =\n",
              "          google.colab.kernel.accessAllowed ? 'block' : 'none';\n",
              "\n",
              "        async function convertToInteractive(key) {\n",
              "          const element = document.querySelector('#df-6c75fdee-b111-4848-9b30-da89c2b97cca');\n",
              "          const dataTable =\n",
              "            await google.colab.kernel.invokeFunction('convertToInteractive',\n",
              "                                                     [key], {});\n",
              "          if (!dataTable) return;\n",
              "\n",
              "          const docLinkHtml = 'Like what you see? Visit the ' +\n",
              "            '<a target=\"_blank\" href=https://colab.research.google.com/notebooks/data_table.ipynb>data table notebook</a>'\n",
              "            + ' to learn more about interactive tables.';\n",
              "          element.innerHTML = '';\n",
              "          dataTable['output_type'] = 'display_data';\n",
              "          await google.colab.output.renderOutput(dataTable, element);\n",
              "          const docLink = document.createElement('div');\n",
              "          docLink.innerHTML = docLinkHtml;\n",
              "          element.appendChild(docLink);\n",
              "        }\n",
              "      </script>\n",
              "    </div>\n",
              "  </div>\n",
              "  "
            ]
          },
          "metadata": {},
          "execution_count": 71
        }
      ]
    },
    {
      "cell_type": "code",
      "source": [
        "#checking unique values\n",
        "data.nunique()\n"
      ],
      "metadata": {
        "id": "VgFTybZPHaXp",
        "colab": {
          "base_uri": "https://localhost:8080/"
        },
        "outputId": "e09fa79a-d246-4c11-a15f-73831cc0ac50"
      },
      "execution_count": 72,
      "outputs": [
        {
          "output_type": "execute_result",
          "data": {
            "text/plain": [
              "Age                                            40\n",
              "Sex                                             2\n",
              "Area of Residence                               3\n",
              "HbA1c                                           2\n",
              "Height                                         71\n",
              "Weight                                         68\n",
              "BMI                                           257\n",
              "Duration of disease                            35\n",
              "Other diease                                   40\n",
              "Adequate Nutrition                              2\n",
              "Education of Mother                             2\n",
              "Standardized growth-rate in infancy             3\n",
              "Standardized birth weight                       4\n",
              "Autoantibodies                                  2\n",
              "Impaired glucose metabolism                     2\n",
              "Insulin taken                                   2\n",
              "How Taken                                       2\n",
              "Family History affected in Type 1 Diabetes      2\n",
              "Family History affected in Type 2 Diabetes      2\n",
              "Hypoglycemis                                    2\n",
              "pancreatic disease affected in child            2\n",
              "Affected                                        2\n",
              "dtype: int64"
            ]
          },
          "metadata": {},
          "execution_count": 72
        }
      ]
    },
    {
      "cell_type": "code",
      "source": [
        "#Visualize the relation between two variables\n",
        "import seaborn as sns\n",
        "sns.pairplot(data)\n"
      ],
      "metadata": {
        "id": "jv-20aRvHmSg",
        "colab": {
          "base_uri": "https://localhost:8080/",
          "height": 744
        },
        "outputId": "38e1c9d8-ae4a-4cf4-addd-539ff6fa98a9"
      },
      "execution_count": 73,
      "outputs": [
        {
          "output_type": "execute_result",
          "data": {
            "text/plain": [
              "<seaborn.axisgrid.PairGrid at 0x7f8c84922510>"
            ]
          },
          "metadata": {},
          "execution_count": 73
        },
        {
          "output_type": "display_data",
          "data": {
            "text/plain": [
              "<Figure size 720x720 with 20 Axes>"
            ],
            "image/png": "[encoded data removed]"
          },
          "metadata": {
            "needs_background": "light"
          }
        }
      ]
    },
    {
      "cell_type": "code",
      "source": [
        "# Gender column\n",
        "plt.figure(figsize=(6,6))\n",
        "sns.countplot(x='Sex', data=data)\n",
        "plt.title('Sex Distribution')\n",
        "plt.show()"
      ],
      "metadata": {
        "id": "BPx76kiFIf75",
        "colab": {
          "base_uri": "https://localhost:8080/",
          "height": 404
        },
        "outputId": "c34f6fad-c06d-4532-e3dc-922fba39a070"
      },
      "execution_count": 74,
      "outputs": [
        {
          "output_type": "display_data",
          "data": {
            "text/plain": [
              "<Figure size 432x432 with 1 Axes>"
            ],
            "image/png": "[encoded data removed]"
          },
          "metadata": {
            "needs_background": "light"
          }
        }
      ]
    },
    {
      "cell_type": "code",
      "source": [
        "data['Sex'].value_counts()"
      ],
      "metadata": {
        "colab": {
          "base_uri": "https://localhost:8080/"
        },
        "id": "ALHxLa_bCfgd",
        "outputId": "8115a2d0-a47c-4ac4-92a1-afa9a2f336a6"
      },
      "execution_count": 75,
      "outputs": [
        {
          "output_type": "execute_result",
          "data": {
            "text/plain": [
              "Male      38553\n",
              "Female    31462\n",
              "Name: Sex, dtype: int64"
            ]
          },
          "metadata": {},
          "execution_count": 75
        }
      ]
    },
    {
      "cell_type": "code",
      "source": [
        "# bmi distribution\n",
        "sns.displot(data['BMI'])"
      ],
      "metadata": {
        "colab": {
          "base_uri": "https://localhost:8080/",
          "height": 387
        },
        "id": "cs4BbhS1C9M_",
        "outputId": "81d03a14-ce72-4b31-9486-fccb86266800"
      },
      "execution_count": 77,
      "outputs": [
        {
          "output_type": "execute_result",
          "data": {
            "text/plain": [
              "<seaborn.axisgrid.FacetGrid at 0x7f8c8420c210>"
            ]
          },
          "metadata": {},
          "execution_count": 77
        },
        {
          "output_type": "display_data",
          "data": {
            "text/plain": [
              "<Figure size 360x360 with 1 Axes>"
            ],
            "image/png": "[encoded data removed]"
          },
          "metadata": {
            "needs_background": "light"
          }
        }
      ]
    },
    {
      "cell_type": "code",
      "source": [
        "sns.boxplot(x='BMI',data=data)"
      ],
      "metadata": {
        "colab": {
          "base_uri": "https://localhost:8080/",
          "height": 297
        },
        "id": "lKZVxTL3DXzS",
        "outputId": "a061cb26-292a-42dd-d843-b9eb7821f4c3"
      },
      "execution_count": 76,
      "outputs": [
        {
          "output_type": "execute_result",
          "data": {
            "text/plain": [
              "<matplotlib.axes._subplots.AxesSubplot at 0x7f8c8429f650>"
            ]
          },
          "metadata": {},
          "execution_count": 76
        },
        {
          "output_type": "display_data",
          "data": {
            "text/plain": [
              "<Figure size 432x288 with 1 Axes>"
            ],
            "image/png": "[encoded data removed]"
          },
          "metadata": {
            "needs_background": "light"
          }
        }
      ]
    },
    {
      "cell_type": "markdown",
      "source": [
        "# Data Pre-Processing\n",
        "\n"
      ],
      "metadata": {
        "id": "YVfwWzCiBr62"
      }
    },
    {
      "cell_type": "code",
      "source": [
        "AgeColumnDummy = pd.get_dummies(data['Age'])\n",
        "data = pd.concat((data,AgeColumnDummy), axis=1)\n",
        "data = data.drop(['Age'], axis=1)\n",
        "data.head(5)"
      ],
      "metadata": {
        "id": "utIveBCYc4_h",
        "colab": {
          "base_uri": "https://localhost:8080/",
          "height": 384
        },
        "outputId": "1a55539e-5bd9-45b8-aeef-ae84105593ee"
      },
      "execution_count": 78,
      "outputs": [
        {
          "output_type": "execute_result",
          "data": {
            "text/plain": [
              "      Sex Area of Residence       HbA1c  Height  Weight        BMI  \\\n",
              "0  Female           Suburban  Over 7.5%    1.50    56.0  24.888889   \n",
              "1  Female           Suburban  Over 7.5%    1.48    58.0  26.479182   \n",
              "2  Female              Urban  Over 7.5%    1.20    46.0  31.944444   \n",
              "3  Female           Suburban  Over 7.5%    1.65    50.0  18.365473   \n",
              "4  Female           Suburban  Over 7.5%    1.61    59.0  22.761468   \n",
              "\n",
              "  Duration of disease   Other diease Adequate Nutrition  Education of Mother  \\\n",
              "0                  4y             no                  No                  No   \n",
              "1                  1w           none                  No                  No   \n",
              "2                  9d           none                 Yes                  No   \n",
              "3                  1w           none                 Yes                  No   \n",
              "4                  1m  liver problem                 Yes                 Yes   \n",
              "\n",
              "   ... greater then 41 greater then 42 greater then 43 greater then 44  \\\n",
              "0  ...               0               0               0               0   \n",
              "1  ...               0               0               0               0   \n",
              "2  ...               0               0               0               0   \n",
              "3  ...               0               0               0               0   \n",
              "4  ...               0               0               0               0   \n",
              "\n",
              "  greater then 45 greater then 46 greater then 47 greater then 48  \\\n",
              "0               0               0               0               0   \n",
              "1               0               0               0               0   \n",
              "2               0               0               0               0   \n",
              "3               0               0               0               0   \n",
              "4               0               0               0               0   \n",
              "\n",
              "  greater then 49 greater then 50  \n",
              "0               0               0  \n",
              "1               0               0  \n",
              "2               0               0  \n",
              "3               0               0  \n",
              "4               0               0  \n",
              "\n",
              "[5 rows x 61 columns]"
            ],
            "text/html": [
              "\n",
              "  <div id=\"df-e7705e7b-3182-447a-b7e8-265e4411b8f5\">\n",
              "    <div class=\"colab-df-container\">\n",
              "      <div>\n",
              "<style scoped>\n",
              "    .dataframe tbody tr th:only-of-type {\n",
              "        vertical-align: middle;\n",
              "    }\n",
              "\n",
              "    .dataframe tbody tr th {\n",
              "        vertical-align: top;\n",
              "    }\n",
              "\n",
              "    .dataframe thead th {\n",
              "        text-align: right;\n",
              "    }\n",
              "</style>\n",
              "<table border=\"1\" class=\"dataframe\">\n",
              "  <thead>\n",
              "    <tr style=\"text-align: right;\">\n",
              "      <th></th>\n",
              "      <th>Sex</th>\n",
              "      <th>Area of Residence</th>\n",
              "      <th>HbA1c</th>\n",
              "      <th>Height</th>\n",
              "      <th>Weight</th>\n",
              "      <th>BMI</th>\n",
              "      <th>Duration of disease</th>\n",
              "      <th>Other diease</th>\n",
              "      <th>Adequate Nutrition</th>\n",
              "      <th>Education of Mother</th>\n",
              "      <th>...</th>\n",
              "      <th>greater then 41</th>\n",
              "      <th>greater then 42</th>\n",
              "      <th>greater then 43</th>\n",
              "      <th>greater then 44</th>\n",
              "      <th>greater then 45</th>\n",
              "      <th>greater then 46</th>\n",
              "      <th>greater then 47</th>\n",
              "      <th>greater then 48</th>\n",
              "      <th>greater then 49</th>\n",
              "      <th>greater then 50</th>\n",
              "    </tr>\n",
              "  </thead>\n",
              "  <tbody>\n",
              "    <tr>\n",
              "      <th>0</th>\n",
              "      <td>Female</td>\n",
              "      <td>Suburban</td>\n",
              "      <td>Over 7.5%</td>\n",
              "      <td>1.50</td>\n",
              "      <td>56.0</td>\n",
              "      <td>24.888889</td>\n",
              "      <td>4y</td>\n",
              "      <td>no</td>\n",
              "      <td>No</td>\n",
              "      <td>No</td>\n",
              "      <td>...</td>\n",
              "      <td>0</td>\n",
              "      <td>0</td>\n",
              "      <td>0</td>\n",
              "      <td>0</td>\n",
              "      <td>0</td>\n",
              "      <td>0</td>\n",
              "      <td>0</td>\n",
              "      <td>0</td>\n",
              "      <td>0</td>\n",
              "      <td>0</td>\n",
              "    </tr>\n",
              "    <tr>\n",
              "      <th>1</th>\n",
              "      <td>Female</td>\n",
              "      <td>Suburban</td>\n",
              "      <td>Over 7.5%</td>\n",
              "      <td>1.48</td>\n",
              "      <td>58.0</td>\n",
              "      <td>26.479182</td>\n",
              "      <td>1w</td>\n",
              "      <td>none</td>\n",
              "      <td>No</td>\n",
              "      <td>No</td>\n",
              "      <td>...</td>\n",
              "      <td>0</td>\n",
              "      <td>0</td>\n",
              "      <td>0</td>\n",
              "      <td>0</td>\n",
              "      <td>0</td>\n",
              "      <td>0</td>\n",
              "      <td>0</td>\n",
              "      <td>0</td>\n",
              "      <td>0</td>\n",
              "      <td>0</td>\n",
              "    </tr>\n",
              "    <tr>\n",
              "      <th>2</th>\n",
              "      <td>Female</td>\n",
              "      <td>Urban</td>\n",
              "      <td>Over 7.5%</td>\n",
              "      <td>1.20</td>\n",
              "      <td>46.0</td>\n",
              "      <td>31.944444</td>\n",
              "      <td>9d</td>\n",
              "      <td>none</td>\n",
              "      <td>Yes</td>\n",
              "      <td>No</td>\n",
              "      <td>...</td>\n",
              "      <td>0</td>\n",
              "      <td>0</td>\n",
              "      <td>0</td>\n",
              "      <td>0</td>\n",
              "      <td>0</td>\n",
              "      <td>0</td>\n",
              "      <td>0</td>\n",
              "      <td>0</td>\n",
              "      <td>0</td>\n",
              "      <td>0</td>\n",
              "    </tr>\n",
              "    <tr>\n",
              "      <th>3</th>\n",
              "      <td>Female</td>\n",
              "      <td>Suburban</td>\n",
              "      <td>Over 7.5%</td>\n",
              "      <td>1.65</td>\n",
              "      <td>50.0</td>\n",
              "      <td>18.365473</td>\n",
              "      <td>1w</td>\n",
              "      <td>none</td>\n",
              "      <td>Yes</td>\n",
              "      <td>No</td>\n",
              "      <td>...</td>\n",
              "      <td>0</td>\n",
              "      <td>0</td>\n",
              "      <td>0</td>\n",
              "      <td>0</td>\n",
              "      <td>0</td>\n",
              "      <td>0</td>\n",
              "      <td>0</td>\n",
              "      <td>0</td>\n",
              "      <td>0</td>\n",
              "      <td>0</td>\n",
              "    </tr>\n",
              "    <tr>\n",
              "      <th>4</th>\n",
              "      <td>Female</td>\n",
              "      <td>Suburban</td>\n",
              "      <td>Over 7.5%</td>\n",
              "      <td>1.61</td>\n",
              "      <td>59.0</td>\n",
              "      <td>22.761468</td>\n",
              "      <td>1m</td>\n",
              "      <td>liver problem</td>\n",
              "      <td>Yes</td>\n",
              "      <td>Yes</td>\n",
              "      <td>...</td>\n",
              "      <td>0</td>\n",
              "      <td>0</td>\n",
              "      <td>0</td>\n",
              "      <td>0</td>\n",
              "      <td>0</td>\n",
              "      <td>0</td>\n",
              "      <td>0</td>\n",
              "      <td>0</td>\n",
              "      <td>0</td>\n",
              "      <td>0</td>\n",
              "    </tr>\n",
              "  </tbody>\n",
              "</table>\n",
              "<p>5 rows × 61 columns</p>\n",
              "</div>\n",
              "      <button class=\"colab-df-convert\" onclick=\"convertToInteractive('df-e7705e7b-3182-447a-b7e8-265e4411b8f5')\"\n",
              "              title=\"Convert this dataframe to an interactive table.\"\n",
              "              style=\"display:none;\">\n",
              "        \n",
              "  <svg xmlns=\"http://www.w3.org/2000/svg\" height=\"24px\"viewBox=\"0 0 24 24\"\n",
              "       width=\"24px\">\n",
              "    <path d=\"M0 0h24v24H0V0z\" fill=\"none\"/>\n",
              "    <path d=\"M18.56 5.44l.94 2.06.94-2.06 2.06-.94-2.06-.94-.94-2.06-.94 2.06-2.06.94zm-11 1L8.5 8.5l.94-2.06 2.06-.94-2.06-.94L8.5 2.5l-.94 2.06-2.06.94zm10 10l.94 2.06.94-2.06 2.06-.94-2.06-.94-.94-2.06-.94 2.06-2.06.94z\"/><path d=\"M17.41 7.96l-1.37-1.37c-.4-.4-.92-.59-1.43-.59-.52 0-1.04.2-1.43.59L10.3 9.45l-7.72 7.72c-.78.78-.78 2.05 0 2.83L4 21.41c.39.39.9.59 1.41.59.51 0 1.02-.2 1.41-.59l7.78-7.78 2.81-2.81c.8-.78.8-2.07 0-2.86zM5.41 20L4 18.59l7.72-7.72 1.47 1.35L5.41 20z\"/>\n",
              "  </svg>\n",
              "      </button>\n",
              "      \n",
              "  <style>\n",
              "    .colab-df-container {\n",
              "      display:flex;\n",
              "      flex-wrap:wrap;\n",
              "      gap: 12px;\n",
              "    }\n",
              "\n",
              "    .colab-df-convert {\n",
              "      background-color: #E8F0FE;\n",
              "      border: none;\n",
              "      border-radius: 50%;\n",
              "      cursor: pointer;\n",
              "      display: none;\n",
              "      fill: #1967D2;\n",
              "      height: 32px;\n",
              "      padding: 0 0 0 0;\n",
              "      width: 32px;\n",
              "    }\n",
              "\n",
              "    .colab-df-convert:hover {\n",
              "      background-color: #E2EBFA;\n",
              "      box-shadow: 0px 1px 2px rgba(60, 64, 67, 0.3), 0px 1px 3px 1px rgba(60, 64, 67, 0.15);\n",
              "      fill: #174EA6;\n",
              "    }\n",
              "\n",
              "    [theme=dark] .colab-df-convert {\n",
              "      background-color: #3B4455;\n",
              "      fill: #D2E3FC;\n",
              "    }\n",
              "\n",
              "    [theme=dark] .colab-df-convert:hover {\n",
              "      background-color: #434B5C;\n",
              "      box-shadow: 0px 1px 3px 1px rgba(0, 0, 0, 0.15);\n",
              "      filter: drop-shadow(0px 1px 2px rgba(0, 0, 0, 0.3));\n",
              "      fill: #FFFFFF;\n",
              "    }\n",
              "  </style>\n",
              "\n",
              "      <script>\n",
              "        const buttonEl =\n",
              "          document.querySelector('#df-e7705e7b-3182-447a-b7e8-265e4411b8f5 button.colab-df-convert');\n",
              "        buttonEl.style.display =\n",
              "          google.colab.kernel.accessAllowed ? 'block' : 'none';\n",
              "\n",
              "        async function convertToInteractive(key) {\n",
              "          const element = document.querySelector('#df-e7705e7b-3182-447a-b7e8-265e4411b8f5');\n",
              "          const dataTable =\n",
              "            await google.colab.kernel.invokeFunction('convertToInteractive',\n",
              "                                                     [key], {});\n",
              "          if (!dataTable) return;\n",
              "\n",
              "          const docLinkHtml = 'Like what you see? Visit the ' +\n",
              "            '<a target=\"_blank\" href=https://colab.research.google.com/notebooks/data_table.ipynb>data table notebook</a>'\n",
              "            + ' to learn more about interactive tables.';\n",
              "          element.innerHTML = '';\n",
              "          dataTable['output_type'] = 'display_data';\n",
              "          await google.colab.output.renderOutput(dataTable, element);\n",
              "          const docLink = document.createElement('div');\n",
              "          docLink.innerHTML = docLinkHtml;\n",
              "          element.appendChild(docLink);\n",
              "        }\n",
              "      </script>\n",
              "    </div>\n",
              "  </div>\n",
              "  "
            ]
          },
          "metadata": {},
          "execution_count": 78
        }
      ]
    },
    {
      "cell_type": "code",
      "source": [
        "data = data.drop(['Area of Residence '], axis=1)"
      ],
      "metadata": {
        "id": "QspWyS12c7Nq"
      },
      "execution_count": 79,
      "outputs": []
    },
    {
      "cell_type": "code",
      "source": [
        "HbA1cofResidenceColumnDummy = pd.get_dummies(data['HbA1c'])\n",
        "data = pd.concat((data,HbA1cofResidenceColumnDummy), axis=1)\n",
        "data = data.drop(['HbA1c'], axis=1)"
      ],
      "metadata": {
        "id": "Tr-hvKLCc9my"
      },
      "execution_count": 80,
      "outputs": []
    },
    {
      "cell_type": "code",
      "source": [
        "data = data.drop(['Duration of disease'], axis=1)"
      ],
      "metadata": {
        "id": "YSyBrSZ7c_eJ"
      },
      "execution_count": 81,
      "outputs": []
    },
    {
      "cell_type": "code",
      "source": [
        "OtherdieaseColumnDummy = pd.get_dummies(data['Other diease'])\n",
        "data = pd.concat((data,OtherdieaseColumnDummy), axis=1)\n",
        "data = data.drop(['Other diease'], axis=1)"
      ],
      "metadata": {
        "id": "Udf_JA_ZdBVh"
      },
      "execution_count": 82,
      "outputs": []
    },
    {
      "cell_type": "code",
      "source": [
        "AdequateNutritionColumnDummy = pd.get_dummies(data['Adequate Nutrition '])\n",
        "data = pd.concat((data,AdequateNutritionColumnDummy), axis=1)\n",
        "data = data.drop(['Adequate Nutrition '], axis=1)"
      ],
      "metadata": {
        "id": "8Aa_BzcPdDJ5"
      },
      "execution_count": 83,
      "outputs": []
    },
    {
      "cell_type": "code",
      "source": [
        "data = data.drop(['Education of Mother'], axis=1)"
      ],
      "metadata": {
        "id": "2H8lQQ_-dE7q"
      },
      "execution_count": 84,
      "outputs": []
    },
    {
      "cell_type": "code",
      "source": [
        "StandardizedgrowthrateininfancyColumnDummy = pd.get_dummies(data['Standardized growth-rate in infancy'])\n",
        "data = pd.concat((data,StandardizedgrowthrateininfancyColumnDummy), axis=1)\n",
        "data = data.drop(['Standardized growth-rate in infancy'], axis=1)"
      ],
      "metadata": {
        "id": "d637CnSQdGtx"
      },
      "execution_count": 85,
      "outputs": []
    },
    {
      "cell_type": "code",
      "source": [
        "StandardizedbirthweightColumnDummy = pd.get_dummies(data['Standardized birth weight'])\n",
        "data = pd.concat((data,StandardizedbirthweightColumnDummy), axis=1)\n",
        "data = data.drop(['Standardized birth weight'], axis=1)"
      ],
      "metadata": {
        "id": "7hb8ur53dIcC"
      },
      "execution_count": 86,
      "outputs": []
    },
    {
      "cell_type": "code",
      "source": [
        "AutoantibodiesColumnDummy = pd.get_dummies(data['Autoantibodies'])\n",
        "data = pd.concat((data,AutoantibodiesColumnDummy), axis=1)\n",
        "data = data.drop(['Autoantibodies'], axis=1)"
      ],
      "metadata": {
        "id": "5F1PEsPSdKYi"
      },
      "execution_count": 87,
      "outputs": []
    },
    {
      "cell_type": "code",
      "source": [
        "ImpairedglucosemetabolismColumnDummy = pd.get_dummies(data['Impaired glucose metabolism '])\n",
        "data = pd.concat((data,ImpairedglucosemetabolismColumnDummy), axis=1)\n",
        "data = data.drop(['Impaired glucose metabolism '], axis=1)"
      ],
      "metadata": {
        "id": "zrIvycwudMED"
      },
      "execution_count": 88,
      "outputs": []
    },
    {
      "cell_type": "code",
      "source": [
        "InsulintakenColumnDummy = pd.get_dummies(data['Insulin taken'])\n",
        "data = pd.concat((data,InsulintakenColumnDummy), axis=1)\n",
        "data = data.drop(['Insulin taken'], axis=1)"
      ],
      "metadata": {
        "id": "Pphr2pyfdOBa"
      },
      "execution_count": 89,
      "outputs": []
    },
    {
      "cell_type": "code",
      "source": [
        "data = data.drop(['How Taken'], axis=1)"
      ],
      "metadata": {
        "id": "6LDRZZGXdPyS"
      },
      "execution_count": 90,
      "outputs": []
    },
    {
      "cell_type": "code",
      "source": [
        "FamilyHistoryaffectedinType1DiabetesColumnDummy = pd.get_dummies(data['Family History affected in Type 1 Diabetes'])\n",
        "data = pd.concat((data,FamilyHistoryaffectedinType1DiabetesColumnDummy), axis=1)\n",
        "data = data.drop(['Family History affected in Type 1 Diabetes'], axis=1)"
      ],
      "metadata": {
        "id": "fOGABABRdR55"
      },
      "execution_count": 91,
      "outputs": []
    },
    {
      "cell_type": "code",
      "source": [
        "FamilyHistoryaffectedinType2DiabetesColumnDummy = pd.get_dummies(data['Family History affected in Type 2 Diabetes'])\n",
        "data = pd.concat((data,FamilyHistoryaffectedinType2DiabetesColumnDummy), axis=1)\n",
        "data = data.drop(['Family History affected in Type 2 Diabetes'], axis=1)"
      ],
      "metadata": {
        "id": "Sk4XvOLIdUSB"
      },
      "execution_count": 92,
      "outputs": []
    },
    {
      "cell_type": "code",
      "source": [
        "HypoglycemisColumnDummy = pd.get_dummies(data['Hypoglycemis'])\n",
        "data = pd.concat((data,HypoglycemisColumnDummy), axis=1)\n",
        "data = data.drop(['Hypoglycemis'], axis=1)"
      ],
      "metadata": {
        "id": "KHdfEICxdWVi"
      },
      "execution_count": 93,
      "outputs": []
    },
    {
      "cell_type": "code",
      "source": [
        "pancreaticdiseaseaffectedinchildColumnDummy = pd.get_dummies(data['pancreatic disease affected in child '])\n",
        "data = pd.concat((data,pancreaticdiseaseaffectedinchildColumnDummy), axis=1)\n",
        "data = data.drop(['pancreatic disease affected in child '], axis=1)\n"
      ],
      "metadata": {
        "id": "3ffEoLUldX-_"
      },
      "execution_count": 94,
      "outputs": []
    },
    {
      "cell_type": "code",
      "source": [
        "SexColumnDummy = pd.get_dummies(data['Sex'])\n",
        "data = pd.concat((data,SexColumnDummy), axis=1)\n",
        "data = data.drop(['Sex'], axis=1)"
      ],
      "metadata": {
        "id": "RcY01cSSIKM_"
      },
      "execution_count": 95,
      "outputs": []
    },
    {
      "cell_type": "code",
      "source": [
        "data.head(2)"
      ],
      "metadata": {
        "id": "rjgpW8ZCdZ1K",
        "colab": {
          "base_uri": "https://localhost:8080/",
          "height": 141
        },
        "outputId": "f520df0c-e727-461b-aebb-a7eb27bf8898"
      },
      "execution_count": 96,
      "outputs": [
        {
          "output_type": "execute_result",
          "data": {
            "text/plain": [
              "   Height  Weight        BMI  Affected  Less then 11  Less then 15  \\\n",
              "0    1.50    56.0  24.888889         0             0             0   \n",
              "1    1.48    58.0  26.479182         1             0             0   \n",
              "\n",
              "   Less then 16  Less then 5  greater then 15  greater then 16  ...  No  Yes  \\\n",
              "0             0            0                1                0  ...   0    1   \n",
              "1             0            0                1                0  ...   0    1   \n",
              "\n",
              "   No  Yes  No  Yes  No  Yes  Female  Male  \n",
              "0   1    0   0    1   0    1       1     0  \n",
              "1   0    1   0    1   0    1       1     0  \n",
              "\n",
              "[2 rows x 111 columns]"
            ],
            "text/html": [
              "\n",
              "  <div id=\"df-17e55a7b-1f2b-488b-90bb-01e6d6d1f2ef\">\n",
              "    <div class=\"colab-df-container\">\n",
              "      <div>\n",
              "<style scoped>\n",
              "    .dataframe tbody tr th:only-of-type {\n",
              "        vertical-align: middle;\n",
              "    }\n",
              "\n",
              "    .dataframe tbody tr th {\n",
              "        vertical-align: top;\n",
              "    }\n",
              "\n",
              "    .dataframe thead th {\n",
              "        text-align: right;\n",
              "    }\n",
              "</style>\n",
              "<table border=\"1\" class=\"dataframe\">\n",
              "  <thead>\n",
              "    <tr style=\"text-align: right;\">\n",
              "      <th></th>\n",
              "      <th>Height</th>\n",
              "      <th>Weight</th>\n",
              "      <th>BMI</th>\n",
              "      <th>Affected</th>\n",
              "      <th>Less then 11</th>\n",
              "      <th>Less then 15</th>\n",
              "      <th>Less then 16</th>\n",
              "      <th>Less then 5</th>\n",
              "      <th>greater then 15</th>\n",
              "      <th>greater then 16</th>\n",
              "      <th>...</th>\n",
              "      <th>No</th>\n",
              "      <th>Yes</th>\n",
              "      <th>No</th>\n",
              "      <th>Yes</th>\n",
              "      <th>No</th>\n",
              "      <th>Yes</th>\n",
              "      <th>No</th>\n",
              "      <th>Yes</th>\n",
              "      <th>Female</th>\n",
              "      <th>Male</th>\n",
              "    </tr>\n",
              "  </thead>\n",
              "  <tbody>\n",
              "    <tr>\n",
              "      <th>0</th>\n",
              "      <td>1.50</td>\n",
              "      <td>56.0</td>\n",
              "      <td>24.888889</td>\n",
              "      <td>0</td>\n",
              "      <td>0</td>\n",
              "      <td>0</td>\n",
              "      <td>0</td>\n",
              "      <td>0</td>\n",
              "      <td>1</td>\n",
              "      <td>0</td>\n",
              "      <td>...</td>\n",
              "      <td>0</td>\n",
              "      <td>1</td>\n",
              "      <td>1</td>\n",
              "      <td>0</td>\n",
              "      <td>0</td>\n",
              "      <td>1</td>\n",
              "      <td>0</td>\n",
              "      <td>1</td>\n",
              "      <td>1</td>\n",
              "      <td>0</td>\n",
              "    </tr>\n",
              "    <tr>\n",
              "      <th>1</th>\n",
              "      <td>1.48</td>\n",
              "      <td>58.0</td>\n",
              "      <td>26.479182</td>\n",
              "      <td>1</td>\n",
              "      <td>0</td>\n",
              "      <td>0</td>\n",
              "      <td>0</td>\n",
              "      <td>0</td>\n",
              "      <td>1</td>\n",
              "      <td>0</td>\n",
              "      <td>...</td>\n",
              "      <td>0</td>\n",
              "      <td>1</td>\n",
              "      <td>0</td>\n",
              "      <td>1</td>\n",
              "      <td>0</td>\n",
              "      <td>1</td>\n",
              "      <td>0</td>\n",
              "      <td>1</td>\n",
              "      <td>1</td>\n",
              "      <td>0</td>\n",
              "    </tr>\n",
              "  </tbody>\n",
              "</table>\n",
              "<p>2 rows × 111 columns</p>\n",
              "</div>\n",
              "      <button class=\"colab-df-convert\" onclick=\"convertToInteractive('df-17e55a7b-1f2b-488b-90bb-01e6d6d1f2ef')\"\n",
              "              title=\"Convert this dataframe to an interactive table.\"\n",
              "              style=\"display:none;\">\n",
              "        \n",
              "  <svg xmlns=\"http://www.w3.org/2000/svg\" height=\"24px\"viewBox=\"0 0 24 24\"\n",
              "       width=\"24px\">\n",
              "    <path d=\"M0 0h24v24H0V0z\" fill=\"none\"/>\n",
              "    <path d=\"M18.56 5.44l.94 2.06.94-2.06 2.06-.94-2.06-.94-.94-2.06-.94 2.06-2.06.94zm-11 1L8.5 8.5l.94-2.06 2.06-.94-2.06-.94L8.5 2.5l-.94 2.06-2.06.94zm10 10l.94 2.06.94-2.06 2.06-.94-2.06-.94-.94-2.06-.94 2.06-2.06.94z\"/><path d=\"M17.41 7.96l-1.37-1.37c-.4-.4-.92-.59-1.43-.59-.52 0-1.04.2-1.43.59L10.3 9.45l-7.72 7.72c-.78.78-.78 2.05 0 2.83L4 21.41c.39.39.9.59 1.41.59.51 0 1.02-.2 1.41-.59l7.78-7.78 2.81-2.81c.8-.78.8-2.07 0-2.86zM5.41 20L4 18.59l7.72-7.72 1.47 1.35L5.41 20z\"/>\n",
              "  </svg>\n",
              "      </button>\n",
              "      \n",
              "  <style>\n",
              "    .colab-df-container {\n",
              "      display:flex;\n",
              "      flex-wrap:wrap;\n",
              "      gap: 12px;\n",
              "    }\n",
              "\n",
              "    .colab-df-convert {\n",
              "      background-color: #E8F0FE;\n",
              "      border: none;\n",
              "      border-radius: 50%;\n",
              "      cursor: pointer;\n",
              "      display: none;\n",
              "      fill: #1967D2;\n",
              "      height: 32px;\n",
              "      padding: 0 0 0 0;\n",
              "      width: 32px;\n",
              "    }\n",
              "\n",
              "    .colab-df-convert:hover {\n",
              "      background-color: #E2EBFA;\n",
              "      box-shadow: 0px 1px 2px rgba(60, 64, 67, 0.3), 0px 1px 3px 1px rgba(60, 64, 67, 0.15);\n",
              "      fill: #174EA6;\n",
              "    }\n",
              "\n",
              "    [theme=dark] .colab-df-convert {\n",
              "      background-color: #3B4455;\n",
              "      fill: #D2E3FC;\n",
              "    }\n",
              "\n",
              "    [theme=dark] .colab-df-convert:hover {\n",
              "      background-color: #434B5C;\n",
              "      box-shadow: 0px 1px 3px 1px rgba(0, 0, 0, 0.15);\n",
              "      filter: drop-shadow(0px 1px 2px rgba(0, 0, 0, 0.3));\n",
              "      fill: #FFFFFF;\n",
              "    }\n",
              "  </style>\n",
              "\n",
              "      <script>\n",
              "        const buttonEl =\n",
              "          document.querySelector('#df-17e55a7b-1f2b-488b-90bb-01e6d6d1f2ef button.colab-df-convert');\n",
              "        buttonEl.style.display =\n",
              "          google.colab.kernel.accessAllowed ? 'block' : 'none';\n",
              "\n",
              "        async function convertToInteractive(key) {\n",
              "          const element = document.querySelector('#df-17e55a7b-1f2b-488b-90bb-01e6d6d1f2ef');\n",
              "          const dataTable =\n",
              "            await google.colab.kernel.invokeFunction('convertToInteractive',\n",
              "                                                     [key], {});\n",
              "          if (!dataTable) return;\n",
              "\n",
              "          const docLinkHtml = 'Like what you see? Visit the ' +\n",
              "            '<a target=\"_blank\" href=https://colab.research.google.com/notebooks/data_table.ipynb>data table notebook</a>'\n",
              "            + ' to learn more about interactive tables.';\n",
              "          element.innerHTML = '';\n",
              "          dataTable['output_type'] = 'display_data';\n",
              "          await google.colab.output.renderOutput(dataTable, element);\n",
              "          const docLink = document.createElement('div');\n",
              "          docLink.innerHTML = docLinkHtml;\n",
              "          element.appendChild(docLink);\n",
              "        }\n",
              "      </script>\n",
              "    </div>\n",
              "  </div>\n",
              "  "
            ]
          },
          "metadata": {},
          "execution_count": 96
        }
      ]
    },
    {
      "cell_type": "markdown",
      "source": [
        "# Splitting the Features and Target"
      ],
      "metadata": {
        "id": "lCy6K2WsClsv"
      }
    },
    {
      "cell_type": "code",
      "source": [
        "features = data.columns\n",
        "features = [x for x in features if x != 'Affected']"
      ],
      "metadata": {
        "id": "QphJPIAFdbTh"
      },
      "execution_count": 97,
      "outputs": []
    },
    {
      "cell_type": "markdown",
      "source": [
        "# Split the data into training and testing data using the train_test_split function"
      ],
      "metadata": {
        "id": "1urFxjrBCwdf"
      }
    },
    {
      "cell_type": "code",
      "source": [
        "train, test = train_test_split(data, test_size = 0.25)\n",
        "print(len(data))\n",
        "print(len(train))\n",
        "print(len(test))"
      ],
      "metadata": {
        "id": "FOcsTNLodflZ",
        "colab": {
          "base_uri": "https://localhost:8080/"
        },
        "outputId": "da7f93e4-16f2-49d0-b94a-ddffe868d71d"
      },
      "execution_count": 98,
      "outputs": [
        {
          "output_type": "stream",
          "name": "stdout",
          "text": [
            "70015\n",
            "52511\n",
            "17504\n"
          ]
        }
      ]
    },
    {
      "cell_type": "code",
      "source": [
        "print(train.shape,test.shape,data.shape)"
      ],
      "metadata": {
        "colab": {
          "base_uri": "https://localhost:8080/"
        },
        "id": "7LBrG6I-C182",
        "outputId": "bde6a800-a695-4917-8cab-a7f7653f11a8"
      },
      "execution_count": 99,
      "outputs": [
        {
          "output_type": "stream",
          "name": "stdout",
          "text": [
            "(52511, 111) (17504, 111) (70015, 111)\n"
          ]
        }
      ]
    },
    {
      "cell_type": "markdown",
      "source": [
        "# Decision Tree"
      ],
      "metadata": {
        "id": "pi5mNTiIaiDV"
      }
    },
    {
      "cell_type": "code",
      "source": [
        "dt = DecisionTreeClassifier(min_samples_split = 100, criterion='entropy')\n",
        "x_train = train[features]\n",
        "y_train = train[\"Affected\"]\n",
        "\n",
        "x_test = test[features]\n",
        "y_test = test[\"Affected\"]"
      ],
      "metadata": {
        "id": "v_jHEcoXEZav"
      },
      "execution_count": 100,
      "outputs": []
    },
    {
      "cell_type": "code",
      "source": [
        "dt = dt.fit(x_train, y_train)\n",
        "y_pred = dt.predict(x_test)"
      ],
      "metadata": {
        "id": "cDWMqjj6H_03"
      },
      "execution_count": 101,
      "outputs": []
    },
    {
      "cell_type": "code",
      "source": [
        "score = accuracy_score(y_test, y_pred)*100\n",
        "print(\"Accuracy using desicion Tree: \", round(score, 2), \"%\" )"
      ],
      "metadata": {
        "colab": {
          "base_uri": "https://localhost:8080/"
        },
        "id": "LP7VbhfOIgth",
        "outputId": "eb3b7b73-93e1-4b7c-b45b-1a986dbb17c0"
      },
      "execution_count": 102,
      "outputs": [
        {
          "output_type": "stream",
          "name": "stdout",
          "text": [
            "Accuracy using desicion Tree:  93.45 %\n"
          ]
        }
      ]
    },
    {
      "cell_type": "markdown",
      "source": [
        "# Confusion matrix by Decision Tree"
      ],
      "metadata": {
        "id": "iNXq2OLda-aU"
      }
    },
    {
      "cell_type": "code",
      "source": [
        "plot_confusion_matrix(dt, x_test, y_test,cmap='PuBuGn',values_format='.1f')  \n",
        "plt.title(\"Confusion matrix by Decision Tree\")\n",
        "plt.show()"
      ],
      "metadata": {
        "colab": {
          "base_uri": "https://localhost:8080/",
          "height": 352
        },
        "id": "atKm-Ea5Io7_",
        "outputId": "a0b2a026-097c-49d6-aa7e-14aecea1376b"
      },
      "execution_count": 103,
      "outputs": [
        {
          "output_type": "stream",
          "name": "stderr",
          "text": [
            "/usr/local/lib/python3.7/dist-packages/sklearn/utils/deprecation.py:87: FutureWarning: Function plot_confusion_matrix is deprecated; Function `plot_confusion_matrix` is deprecated in 1.0 and will be removed in 1.2. Use one of the class methods: ConfusionMatrixDisplay.from_predictions or ConfusionMatrixDisplay.from_estimator.\n",
            "  warnings.warn(msg, category=FutureWarning)\n"
          ]
        },
        {
          "output_type": "display_data",
          "data": {
            "text/plain": [
              "<Figure size 432x288 with 2 Axes>"
            ],
            "image/png": "[encoded data removed]"
          },
          "metadata": {
            "needs_background": "light"
          }
        }
      ]
    },
    {
      "cell_type": "code",
      "source": [
        "# from the confusion matrix\n",
        "TP = true_pos = 7047\n",
        "TN = true_neg = 9310\n",
        "FP = false_pos =569\n",
        "FN = false_neg = 578"
      ],
      "metadata": {
        "id": "pkkDB9-eSOga"
      },
      "execution_count": 106,
      "outputs": []
    },
    {
      "cell_type": "code",
      "source": [
        "# Sensitivity\n",
        "results = {}\n",
        "metric = \"TPR\"\n",
        "results[metric] = TP / (TP + FN)\n",
        "print(f\"{metric} is {results[metric]: .3f}\")"
      ],
      "metadata": {
        "colab": {
          "base_uri": "https://localhost:8080/"
        },
        "id": "1WHkUwZzSQuC",
        "outputId": "4c9f5044-5c87-443a-d05f-77fc876f88eb"
      },
      "execution_count": 108,
      "outputs": [
        {
          "output_type": "stream",
          "name": "stdout",
          "text": [
            "TPR is  0.924\n"
          ]
        }
      ]
    },
    {
      "cell_type": "code",
      "source": [
        "# Specificity\n",
        "metric = \"TNR\"\n",
        "results[metric] = TN / (TN + FP)\n",
        "print(f\"{metric} is {results[metric]: .3f}\")"
      ],
      "metadata": {
        "colab": {
          "base_uri": "https://localhost:8080/"
        },
        "id": "u8ZYzfZVSX16",
        "outputId": "a604e7e1-4169-4b1b-8a96-7767537b2c51"
      },
      "execution_count": 109,
      "outputs": [
        {
          "output_type": "stream",
          "name": "stdout",
          "text": [
            "TNR is  0.942\n"
          ]
        }
      ]
    },
    {
      "cell_type": "markdown",
      "source": [
        "# Classification_report by Decision Tree"
      ],
      "metadata": {
        "id": "7iACkZzebFkc"
      }
    },
    {
      "cell_type": "code",
      "source": [
        "print(classification_report(y_test,y_pred))"
      ],
      "metadata": {
        "colab": {
          "base_uri": "https://localhost:8080/"
        },
        "id": "mPa3bYYaNaty",
        "outputId": "212e9365-419b-46f2-ff27-61f4c356dc61"
      },
      "execution_count": 110,
      "outputs": [
        {
          "output_type": "stream",
          "name": "stdout",
          "text": [
            "              precision    recall  f1-score   support\n",
            "\n",
            "           0       0.94      0.94      0.94      9879\n",
            "           1       0.93      0.92      0.92      7625\n",
            "\n",
            "    accuracy                           0.93     17504\n",
            "   macro avg       0.93      0.93      0.93     17504\n",
            "weighted avg       0.93      0.93      0.93     17504\n",
            "\n"
          ]
        }
      ]
    },
    {
      "cell_type": "markdown",
      "source": [
        "# Random Forest"
      ],
      "metadata": {
        "id": "ddgmr39tbLVl"
      }
    },
    {
      "cell_type": "code",
      "source": [
        "rf = RandomForestClassifier(n_estimators=100,max_depth=9)\n",
        "rf.fit(x_train,y_train)\n",
        "y_pred_rf = rf.predict(x_test)\n"
      ],
      "metadata": {
        "id": "xDmRPAbuPqBi"
      },
      "execution_count": 111,
      "outputs": []
    },
    {
      "cell_type": "code",
      "source": [
        "score1 = accuracy_score(y_test, y_pred_rf)*100\n",
        "print(\"Accuracy using random forest:\",round(score1, 2), \"%\")"
      ],
      "metadata": {
        "colab": {
          "base_uri": "https://localhost:8080/"
        },
        "id": "28mn3dCWbbR0",
        "outputId": "af46d125-7af5-40f0-8ad1-261e8ffab724"
      },
      "execution_count": 112,
      "outputs": [
        {
          "output_type": "stream",
          "name": "stdout",
          "text": [
            "Accuracy using random forest: 93.42 %\n"
          ]
        }
      ]
    },
    {
      "cell_type": "markdown",
      "source": [
        "# Confusion matrix by Random Forest"
      ],
      "metadata": {
        "id": "qOpUWP5bbc-s"
      }
    },
    {
      "cell_type": "code",
      "source": [
        "plot_confusion_matrix(rf, x_test, y_test,cmap='PuBuGn',values_format='.1f')  \n",
        "plt.title(\"Confusion matrix by Random Forest\")\n",
        "plt.show()"
      ],
      "metadata": {
        "colab": {
          "base_uri": "https://localhost:8080/",
          "height": 352
        },
        "id": "8NUPrN0dbgF0",
        "outputId": "eea9d45b-9c36-4814-d2d0-79846b56a1ff"
      },
      "execution_count": 113,
      "outputs": [
        {
          "output_type": "stream",
          "name": "stderr",
          "text": [
            "/usr/local/lib/python3.7/dist-packages/sklearn/utils/deprecation.py:87: FutureWarning: Function plot_confusion_matrix is deprecated; Function `plot_confusion_matrix` is deprecated in 1.0 and will be removed in 1.2. Use one of the class methods: ConfusionMatrixDisplay.from_predictions or ConfusionMatrixDisplay.from_estimator.\n",
            "  warnings.warn(msg, category=FutureWarning)\n"
          ]
        },
        {
          "output_type": "display_data",
          "data": {
            "text/plain": [
              "<Figure size 432x288 with 2 Axes>"
            ],
            "image/png": "[encoded data removed]"
          },
          "metadata": {
            "needs_background": "light"
          }
        }
      ]
    },
    {
      "cell_type": "code",
      "source": [
        "# from the confusion matrix\n",
        "TP = true_pos = 7043\n",
        "TN = true_neg = 9310\n",
        "FP = false_pos =569\n",
        "FN = false_neg = 582"
      ],
      "metadata": {
        "id": "_pgnNZ20bm9F"
      },
      "execution_count": 114,
      "outputs": []
    },
    {
      "cell_type": "code",
      "source": [
        "# Sensitivity\n",
        "results = {}\n",
        "metric = \"TPR\"\n",
        "results[metric] = TP / (TP + FN)\n",
        "print(f\"{metric} is {results[metric]: .3f}\")"
      ],
      "metadata": {
        "colab": {
          "base_uri": "https://localhost:8080/"
        },
        "id": "GQ8UvS7SbnvW",
        "outputId": "7bafff35-8629-473a-d912-f1343bf34986"
      },
      "execution_count": 115,
      "outputs": [
        {
          "output_type": "stream",
          "name": "stdout",
          "text": [
            "TPR is  0.924\n"
          ]
        }
      ]
    },
    {
      "cell_type": "code",
      "source": [
        "# Specificity\n",
        "metric = \"TNR\"\n",
        "results[metric] = TN / (TN + FP)\n",
        "print(f\"{metric} is {results[metric]: .3f}\")"
      ],
      "metadata": {
        "colab": {
          "base_uri": "https://localhost:8080/"
        },
        "id": "_IhmzbYRbr81",
        "outputId": "0600e35f-c7b6-4a73-f3d4-9a15b55f1962"
      },
      "execution_count": 116,
      "outputs": [
        {
          "output_type": "stream",
          "name": "stdout",
          "text": [
            "TNR is  0.942\n"
          ]
        }
      ]
    },
    {
      "cell_type": "markdown",
      "source": [
        "# Classification_report by Random Forest"
      ],
      "metadata": {
        "id": "lftXjtYlb2As"
      }
    },
    {
      "cell_type": "code",
      "source": [
        "print(classification_report(y_test,y_pred_rf))"
      ],
      "metadata": {
        "colab": {
          "base_uri": "https://localhost:8080/"
        },
        "id": "U4W5b4UZbs61",
        "outputId": "daca8f09-3cc0-450c-d209-6edb46826472"
      },
      "execution_count": 117,
      "outputs": [
        {
          "output_type": "stream",
          "name": "stdout",
          "text": [
            "              precision    recall  f1-score   support\n",
            "\n",
            "           0       0.94      0.94      0.94      9879\n",
            "           1       0.93      0.92      0.92      7625\n",
            "\n",
            "    accuracy                           0.93     17504\n",
            "   macro avg       0.93      0.93      0.93     17504\n",
            "weighted avg       0.93      0.93      0.93     17504\n",
            "\n"
          ]
        }
      ]
    },
    {
      "cell_type": "markdown",
      "source": [
        "# SVM"
      ],
      "metadata": {
        "id": "FQdKM6mYb9mV"
      }
    },
    {
      "cell_type": "code",
      "source": [
        "svc = SVC()\n",
        "svc.fit(x_train, y_train)\n",
        "y_pred_svm = svc.predict(x_test)\n",
        "score5 = accuracy_score(y_test, y_pred_svm)*100\n",
        "print(\"Accuracy using SVC Model:\",round(score5, 2), \"%\")"
      ],
      "metadata": {
        "colab": {
          "base_uri": "https://localhost:8080/"
        },
        "id": "6I7q0_9td4Gt",
        "outputId": "87b88c07-6823-4e41-ba5f-17c3af809c95"
      },
      "execution_count": 118,
      "outputs": [
        {
          "output_type": "stream",
          "name": "stdout",
          "text": [
            "Accuracy using SVC Model: 92.98 %\n"
          ]
        }
      ]
    },
    {
      "cell_type": "markdown",
      "source": [
        "# Confusion matrix by SVM"
      ],
      "metadata": {
        "id": "1tL6qIiBg1cO"
      }
    },
    {
      "cell_type": "code",
      "source": [
        "plot_confusion_matrix(svc, x_test, y_test,cmap='PuBuGn',values_format='.1f')  \n",
        "plt.title(\"Confusion matrix by SVM Model\")\n",
        "plt.show()"
      ],
      "metadata": {
        "colab": {
          "base_uri": "https://localhost:8080/",
          "height": 352
        },
        "id": "NiUOfdntg0kd",
        "outputId": "9b7ae379-334b-461f-b1f9-a373ce4695cd"
      },
      "execution_count": 119,
      "outputs": [
        {
          "output_type": "stream",
          "name": "stderr",
          "text": [
            "/usr/local/lib/python3.7/dist-packages/sklearn/utils/deprecation.py:87: FutureWarning: Function plot_confusion_matrix is deprecated; Function `plot_confusion_matrix` is deprecated in 1.0 and will be removed in 1.2. Use one of the class methods: ConfusionMatrixDisplay.from_predictions or ConfusionMatrixDisplay.from_estimator.\n",
            "  warnings.warn(msg, category=FutureWarning)\n"
          ]
        },
        {
          "output_type": "display_data",
          "data": {
            "text/plain": [
              "<Figure size 432x288 with 2 Axes>"
            ],
            "image/png": "[encoded data removed]"
          },
          "metadata": {
            "needs_background": "light"
          }
        }
      ]
    },
    {
      "cell_type": "code",
      "source": [
        "# from the confusion matrix\n",
        "TP = true_pos = 6985\n",
        "TN = true_neg = 9290\n",
        "FP = false_pos =589\n",
        "FN = false_neg = 640"
      ],
      "metadata": {
        "id": "-enFWjpthOGW"
      },
      "execution_count": 120,
      "outputs": []
    },
    {
      "cell_type": "code",
      "source": [
        "# Sensitivity\n",
        "results = {}\n",
        "metric = \"TPR\"\n",
        "results[metric] = TP / (TP + FN)\n",
        "print(f\"{metric} is {results[metric]: .3f}\")\n",
        "\n",
        "# Specificity\n",
        "metric = \"TNR\"\n",
        "results[metric] = TN / (TN + FP)\n",
        "print(f\"{metric} is {results[metric]: .3f}\")\n"
      ],
      "metadata": {
        "colab": {
          "base_uri": "https://localhost:8080/"
        },
        "id": "DVJ_mcMnhU4-",
        "outputId": "7760293b-8154-42b4-88d0-0b298541ae57"
      },
      "execution_count": 123,
      "outputs": [
        {
          "output_type": "stream",
          "name": "stdout",
          "text": [
            "TPR is  0.916\n",
            "TNR is  0.940\n"
          ]
        }
      ]
    },
    {
      "cell_type": "markdown",
      "source": [
        "# Classification_report by SVM"
      ],
      "metadata": {
        "id": "cOUbdy96hCgH"
      }
    },
    {
      "cell_type": "code",
      "source": [
        "print(classification_report(y_test,y_pred_svm))"
      ],
      "metadata": {
        "colab": {
          "base_uri": "https://localhost:8080/"
        },
        "id": "ffb5HVIthFZW",
        "outputId": "20f9abc9-27c9-4ea9-c1db-f5b8e033f1f6"
      },
      "execution_count": 124,
      "outputs": [
        {
          "output_type": "stream",
          "name": "stdout",
          "text": [
            "              precision    recall  f1-score   support\n",
            "\n",
            "           0       0.94      0.94      0.94      9879\n",
            "           1       0.92      0.92      0.92      7625\n",
            "\n",
            "    accuracy                           0.93     17504\n",
            "   macro avg       0.93      0.93      0.93     17504\n",
            "weighted avg       0.93      0.93      0.93     17504\n",
            "\n"
          ]
        }
      ]
    },
    {
      "cell_type": "markdown",
      "source": [
        "# Logistic Regression"
      ],
      "metadata": {
        "id": "gXSmhjYIhjoO"
      }
    },
    {
      "cell_type": "code",
      "source": [
        "lr = LogisticRegression()\n",
        "lr.fit(x_train,y_train)\n",
        "y_pred_lr = lr.predict(x_test)"
      ],
      "metadata": {
        "colab": {
          "base_uri": "https://localhost:8080/"
        },
        "id": "fPGekSzshqbu",
        "outputId": "45c1fb2f-8311-4941-d10a-5190acc91501"
      },
      "execution_count": 125,
      "outputs": [
        {
          "output_type": "stream",
          "name": "stderr",
          "text": [
            "/usr/local/lib/python3.7/dist-packages/sklearn/linear_model/_logistic.py:818: ConvergenceWarning: lbfgs failed to converge (status=1):\n",
            "STOP: TOTAL NO. of ITERATIONS REACHED LIMIT.\n",
            "\n",
            "Increase the number of iterations (max_iter) or scale the data as shown in:\n",
            "    https://scikit-learn.org/stable/modules/preprocessing.html\n",
            "Please also refer to the documentation for alternative solver options:\n",
            "    https://scikit-learn.org/stable/modules/linear_model.html#logistic-regression\n",
            "  extra_warning_msg=_LOGISTIC_SOLVER_CONVERGENCE_MSG,\n"
          ]
        }
      ]
    },
    {
      "cell_type": "code",
      "source": [
        "score3 = accuracy_score(y_test, y_pred_lr)*100\n",
        "print(\"Accuracy using logistic regression:\",round(score3, 2), \"%\")"
      ],
      "metadata": {
        "colab": {
          "base_uri": "https://localhost:8080/"
        },
        "id": "J4RwuWashuEX",
        "outputId": "851ac2ef-c856-412b-cff2-2c291f733ed6"
      },
      "execution_count": 126,
      "outputs": [
        {
          "output_type": "stream",
          "name": "stdout",
          "text": [
            "Accuracy using logistic regression: 92.97 %\n"
          ]
        }
      ]
    },
    {
      "cell_type": "markdown",
      "source": [
        "# Confusion matrix by Logistic Regression"
      ],
      "metadata": {
        "id": "pfqy1wPGhvJu"
      }
    },
    {
      "cell_type": "code",
      "source": [
        "plot_confusion_matrix(lr, x_test, y_test,cmap='PuBuGn',values_format='.1f')  \n",
        "plt.title(\"Confusion matrix by Logistic Regression\")\n",
        "plt.show()"
      ],
      "metadata": {
        "colab": {
          "base_uri": "https://localhost:8080/",
          "height": 352
        },
        "id": "BBbB7iG6huMu",
        "outputId": "9b3e3472-2d8e-433b-f889-ec778a7ada53"
      },
      "execution_count": 127,
      "outputs": [
        {
          "output_type": "stream",
          "name": "stderr",
          "text": [
            "/usr/local/lib/python3.7/dist-packages/sklearn/utils/deprecation.py:87: FutureWarning: Function plot_confusion_matrix is deprecated; Function `plot_confusion_matrix` is deprecated in 1.0 and will be removed in 1.2. Use one of the class methods: ConfusionMatrixDisplay.from_predictions or ConfusionMatrixDisplay.from_estimator.\n",
            "  warnings.warn(msg, category=FutureWarning)\n"
          ]
        },
        {
          "output_type": "display_data",
          "data": {
            "text/plain": [
              "<Figure size 432x288 with 2 Axes>"
            ],
            "image/png": "[encoded data removed]"
          },
          "metadata": {
            "needs_background": "light"
          }
        }
      ]
    },
    {
      "cell_type": "code",
      "source": [
        "# from the confusion matrix\n",
        "TP = true_pos = 6985\n",
        "TN = true_neg = 9289\n",
        "FP = false_pos =590\n",
        "FN = false_neg = 640"
      ],
      "metadata": {
        "id": "jieLbz7vh8hW"
      },
      "execution_count": 128,
      "outputs": []
    },
    {
      "cell_type": "code",
      "source": [
        "# Sensitivity\n",
        "results = {}\n",
        "metric = \"TPR\"\n",
        "results[metric] = TP / (TP + FN)\n",
        "print(f\"{metric} is {results[metric]: .3f}\")\n",
        "\n",
        "# Specificity\n",
        "metric = \"TNR\"\n",
        "results[metric] = TN / (TN + FP)\n",
        "print(f\"{metric} is {results[metric]: .3f}\")"
      ],
      "metadata": {
        "colab": {
          "base_uri": "https://localhost:8080/"
        },
        "id": "VAUgJW7Vh9M9",
        "outputId": "5b37ce58-b17e-470b-f3ee-51d71883418a"
      },
      "execution_count": 129,
      "outputs": [
        {
          "output_type": "stream",
          "name": "stdout",
          "text": [
            "TPR is  0.916\n",
            "TNR is  0.940\n"
          ]
        }
      ]
    },
    {
      "cell_type": "markdown",
      "source": [
        "# Classification_report by Logistic Regression"
      ],
      "metadata": {
        "id": "9V2C1TIBh05u"
      }
    },
    {
      "cell_type": "code",
      "source": [
        "print(classification_report(y_test,y_pred_lr))"
      ],
      "metadata": {
        "colab": {
          "base_uri": "https://localhost:8080/"
        },
        "id": "brPFB08hhyoF",
        "outputId": "214830e6-a30a-4566-9abd-31d3f39a156d"
      },
      "execution_count": 130,
      "outputs": [
        {
          "output_type": "stream",
          "name": "stdout",
          "text": [
            "              precision    recall  f1-score   support\n",
            "\n",
            "           0       0.94      0.94      0.94      9879\n",
            "           1       0.92      0.92      0.92      7625\n",
            "\n",
            "    accuracy                           0.93     17504\n",
            "   macro avg       0.93      0.93      0.93     17504\n",
            "weighted avg       0.93      0.93      0.93     17504\n",
            "\n"
          ]
        }
      ]
    },
    {
      "cell_type": "markdown",
      "source": [
        "# K-Nearest Neighbor"
      ],
      "metadata": {
        "id": "Fckqd62Ymrc1"
      }
    },
    {
      "cell_type": "code",
      "source": [
        "kn = KNeighborsClassifier(n_neighbors=7)\n",
        "kn.fit(x_train,y_train)\n",
        "y_pred_kn = kn.predict(x_test)\n",
        "score4 = accuracy_score(y_test, y_pred_kn)*100\n",
        "print(\"Accuracy using K-Nearest Neighbor:\",round(score4, 2), \"%\")"
      ],
      "metadata": {
        "colab": {
          "base_uri": "https://localhost:8080/"
        },
        "id": "NSbL4cnuh4In",
        "outputId": "0fa83007-afb8-452f-e7be-820bf015b1f2"
      },
      "execution_count": 131,
      "outputs": [
        {
          "output_type": "stream",
          "name": "stdout",
          "text": [
            "Accuracy using K-Nearest Neighbor: 93.5 %\n"
          ]
        }
      ]
    },
    {
      "cell_type": "markdown",
      "source": [
        "# Confusion matrix by K-Nearest Neighbor"
      ],
      "metadata": {
        "id": "jeXhflDDnMjw"
      }
    },
    {
      "cell_type": "code",
      "source": [
        "plot_confusion_matrix(kn, x_test, y_test,cmap='PuBuGn',values_format='.1f')  \n",
        "plt.title(\"Confusion matrix by K-Nearest Neighbor\")\n",
        "plt.show()"
      ],
      "metadata": {
        "colab": {
          "base_uri": "https://localhost:8080/",
          "height": 352
        },
        "id": "7cFxvMPWmu_X",
        "outputId": "2726ed23-1f19-4501-9fca-efdf23ce7c23"
      },
      "execution_count": 132,
      "outputs": [
        {
          "output_type": "stream",
          "name": "stderr",
          "text": [
            "/usr/local/lib/python3.7/dist-packages/sklearn/utils/deprecation.py:87: FutureWarning: Function plot_confusion_matrix is deprecated; Function `plot_confusion_matrix` is deprecated in 1.0 and will be removed in 1.2. Use one of the class methods: ConfusionMatrixDisplay.from_predictions or ConfusionMatrixDisplay.from_estimator.\n",
            "  warnings.warn(msg, category=FutureWarning)\n"
          ]
        },
        {
          "output_type": "display_data",
          "data": {
            "text/plain": [
              "<Figure size 432x288 with 2 Axes>"
            ],
            "image/png": "[encoded data removed]"
          },
          "metadata": {
            "needs_background": "light"
          }
        }
      ]
    },
    {
      "cell_type": "code",
      "source": [
        "# from the confusion matrix\n",
        "TP = true_pos = 7048\n",
        "TN = true_neg = 9318\n",
        "FP = false_pos =561\n",
        "FN = false_neg = 577"
      ],
      "metadata": {
        "id": "AQvokE0OnR14"
      },
      "execution_count": 133,
      "outputs": []
    },
    {
      "cell_type": "code",
      "source": [
        "# Sensitivity\n",
        "results = {}\n",
        "metric = \"TPR\"\n",
        "results[metric] = TP / (TP + FN)\n",
        "print(f\"{metric} is {results[metric]: .3f}\")\n",
        "\n",
        "# Specificity\n",
        "metric = \"TNR\"\n",
        "results[metric] = TN / (TN + FP)\n",
        "print(f\"{metric} is {results[metric]: .3f}\")"
      ],
      "metadata": {
        "colab": {
          "base_uri": "https://localhost:8080/"
        },
        "id": "ezjIxatwnUNw",
        "outputId": "612c97d6-0f37-487d-ca88-696c8463f7df"
      },
      "execution_count": 135,
      "outputs": [
        {
          "output_type": "stream",
          "name": "stdout",
          "text": [
            "TPR is  0.924\n",
            "TNR is  0.943\n"
          ]
        }
      ]
    },
    {
      "cell_type": "markdown",
      "source": [
        "# Classification_report by K-Nearest Neighbor"
      ],
      "metadata": {
        "id": "wOSTHuHundsP"
      }
    },
    {
      "cell_type": "code",
      "source": [
        "print(classification_report(y_test,y_pred_kn))"
      ],
      "metadata": {
        "colab": {
          "base_uri": "https://localhost:8080/"
        },
        "id": "Qz8WE_08ncj_",
        "outputId": "216aa7ae-863c-4e82-c5dc-17cd1f3f03bb"
      },
      "execution_count": 136,
      "outputs": [
        {
          "output_type": "stream",
          "name": "stdout",
          "text": [
            "              precision    recall  f1-score   support\n",
            "\n",
            "           0       0.94      0.94      0.94      9879\n",
            "           1       0.93      0.92      0.93      7625\n",
            "\n",
            "    accuracy                           0.93     17504\n",
            "   macro avg       0.93      0.93      0.93     17504\n",
            "weighted avg       0.93      0.93      0.93     17504\n",
            "\n"
          ]
        }
      ]
    },
    {
      "cell_type": "markdown",
      "source": [
        "# Plot ROC and compare AUC"
      ],
      "metadata": {
        "id": "-bssMpJHnxZy"
      }
    },
    {
      "cell_type": "code",
      "source": [
        "\n",
        "dt_fpr, dt_tpr, threshold = roc_curve(y_test, y_pred)\n",
        "auc_dt = auc(dt_fpr, dt_tpr)\n",
        "\n",
        "rf_fpr, rf_tpr, threshold = roc_curve(y_test, y_pred_rf)\n",
        "auc_rf = auc(rf_fpr, rf_tpr)\n",
        "\n",
        "svm_fpr, svm_tpr, threshold = roc_curve(y_test, y_pred_svm)\n",
        "auc_svm = auc(svm_fpr, svm_tpr)\n",
        "\n",
        "logistic_fpr, logistic_tpr, threshold = roc_curve(y_test, y_pred_lr)\n",
        "auc_logistic = auc(logistic_fpr, logistic_tpr)\n",
        "\n",
        "knn_fpr, knn_tpr, threshold = roc_curve(y_test, y_pred_kn)\n",
        "auc_knn = auc(knn_fpr, knn_tpr)\n",
        "\n",
        "plt.figure(figsize=(6, 6), dpi=100)\n",
        "\n",
        "plt.plot(dt_fpr, dt_tpr, linestyle='-', label='DT (auc = %0.3f)' % auc_dt)\n",
        "\n",
        "plt.plot(rf_fpr, rf_tpr, marker='.', label='RF (auc = %0.3f)' % auc_rf)\n",
        "\n",
        "plt.plot(svm_fpr, svm_tpr, linestyle='-', label='SVM (auc = %0.3f)' % auc_svm)\n",
        "\n",
        "plt.plot(logistic_fpr, logistic_tpr, marker='.', label='Logistic (auc = %0.3f)' % auc_logistic)\n",
        "\n",
        "plt.plot(knn_fpr, knn_tpr, marker='.', label='K-NN (auc = %0.3f)' % auc_rf)\n",
        "\n",
        "plt.xlabel('False Positive Rate -->')\n",
        "plt.ylabel('True Positive Rate -->')\n",
        "plt.legend()\n",
        "\n",
        "plt.show()"
      ],
      "metadata": {
        "colab": {
          "base_uri": "https://localhost:8080/",
          "height": 533
        },
        "id": "ncfw2_TBobry",
        "outputId": "dd5b081b-fd6f-4c6c-d260-bfdcd506b195"
      },
      "execution_count": 137,
      "outputs": [
        {
          "output_type": "display_data",
          "data": {
            "text/plain": [
              "<Figure size 600x600 with 1 Axes>"
            ],
            "image/png": "[encoded data removed]"
          },
          "metadata": {
            "needs_background": "light"
          }
        }
      ]
    },
    {
      "cell_type": "code",
      "source": [],
      "metadata": {
        "id": "MVdBf6_NrXQm"
      },
      "execution_count": null,
      "outputs": []
    },
    {
      "cell_type": "code",
      "source": [],
      "metadata": {
        "id": "Xh5pyeIvrcAL"
      },
      "execution_count": 64,
      "outputs": []
    },
    {
      "cell_type": "markdown",
      "source": [],
      "metadata": {
        "id": "LDDcf7tmhsTn"
      }
    },
    {
      "cell_type": "markdown",
      "source": [],
      "metadata": {
        "id": "xR_BkKAxbkD1"
      }
    }
  ]
}